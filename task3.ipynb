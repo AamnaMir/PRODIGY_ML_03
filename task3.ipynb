{
  "nbformat": 4,
  "nbformat_minor": 0,
  "metadata": {
    "colab": {
      "provenance": [],
      "authorship_tag": "ABX9TyNE5eYkerE9K3rateBkBSVW",
      "include_colab_link": true
    },
    "kernelspec": {
      "name": "python3",
      "display_name": "Python 3"
    },
    "language_info": {
      "name": "python"
    }
  },
  "cells": [
    {
      "cell_type": "markdown",
      "metadata": {
        "id": "view-in-github",
        "colab_type": "text"
      },
      "source": [
        "<a href=\"https://colab.research.google.com/github/AamnaMir/PRODIGY_ML_03/blob/main/task3.ipynb\" target=\"_parent\"><img src=\"https://colab.research.google.com/assets/colab-badge.svg\" alt=\"Open In Colab\"/></a>"
      ]
    },
    {
      "cell_type": "code",
      "source": [
        "import kagglehub\n",
        "\n",
        "# Download latest version\n",
        "path = kagglehub.dataset_download(\"salader/dogs-vs-cats\")\n",
        "\n",
        "print(\"Path to dataset files:\", path)"
      ],
      "metadata": {
        "colab": {
          "base_uri": "https://localhost:8080/"
        },
        "id": "xZggibgkFd89",
        "outputId": "25070545-1af5-4d32-cf65-60da52d5b42b"
      },
      "execution_count": 1,
      "outputs": [
        {
          "output_type": "stream",
          "name": "stdout",
          "text": [
            "Downloading from https://www.kaggle.com/api/v1/datasets/download/salader/dogs-vs-cats?dataset_version_number=1...\n"
          ]
        },
        {
          "output_type": "stream",
          "name": "stderr",
          "text": [
            "100%|██████████| 1.06G/1.06G [00:24<00:00, 47.2MB/s]"
          ]
        },
        {
          "output_type": "stream",
          "name": "stdout",
          "text": [
            "Extracting files...\n"
          ]
        },
        {
          "output_type": "stream",
          "name": "stderr",
          "text": [
            "\n"
          ]
        },
        {
          "output_type": "stream",
          "name": "stdout",
          "text": [
            "Path to dataset files: /root/.cache/kagglehub/datasets/salader/dogs-vs-cats/versions/1\n"
          ]
        }
      ]
    },
    {
      "cell_type": "code",
      "source": [
        "import scipy\n",
        "import csv as csv\n",
        "import numpy as np # linear algebra\n",
        "import pandas as pd # data processing, CSV file I/O (e.g. pd.read_csv)\n",
        "import sklearn as sk\n",
        "from numpy import array\n",
        "import cv2\n",
        "import os\n",
        "import skimage as ski\n",
        "import random\n",
        "from PIL import Image\n",
        "from PIL import ImageFilter\n",
        "from sklearn.svm import LinearSVC, SVC\n",
        "from sklearn.calibration import CalibratedClassifierCV\n",
        "from sklearn.linear_model import LogisticRegression\n",
        "import re\n",
        "from PIL import Image\n",
        "# Import the Resampling enum for image resizing\n",
        "from PIL.Image import Resampling\n",
        "\n",
        "from subprocess import check_output\n",
        "#print(check_output([\"ls\", \"../input\"]).decode(\"utf8\"))\n",
        "\n",
        "#get full dataset\n",
        "TRAIN_DIR = '/root/.cache/kagglehub/datasets/salader/dogs-vs-cats/versions/1/train/'\n",
        "CAT_DIR = os.path.join(TRAIN_DIR, 'cats')\n",
        "DOG_DIR = os.path.join(TRAIN_DIR, 'dogs')\n",
        "\n",
        "# Get image file paths\n",
        "cat_images = [os.path.join(CAT_DIR, file) for file in os.listdir(CAT_DIR) if file.lower().endswith(('.jpg', '.jpeg', '.png'))]\n",
        "dog_images = [os.path.join(DOG_DIR, file) for file in os.listdir(DOG_DIR) if file.lower().endswith(('.jpg', '.jpeg', '.png'))]\n",
        "\n",
        "# Determine the minimum count to balance dataset\n",
        "min_count = min(len(cat_images), len(dog_images), 2500)  # Max 2500 per class\n",
        "\n",
        "# Sample equal number of images from each class\n",
        "cat_samples = random.sample(cat_images, min_count)\n",
        "dog_samples = random.sample(dog_images, min_count)\n",
        "\n",
        "# Combine balanced dataset\n",
        "train_images = cat_samples + dog_samples\n",
        "random.shuffle(train_images)  # Shuffle to mix classes\n",
        "\n",
        "print(f\"Number of cat images: {len(cat_samples)}\")\n",
        "print(f\"Number of dog images: {len(dog_samples)}\")\n",
        "print(f\"Total training images: {len(train_images)}\")\n",
        "\n",
        "TEST_DIR = '/root/.cache/kagglehub/datasets/salader/dogs-vs-cats/versions/1/test/'\n",
        "TEST_CAT_DIR = os.path.join(TEST_DIR, 'cats')\n",
        "TEST_DOG_DIR = os.path.join(TEST_DIR, 'dogs')\n",
        "test_images = [os.path.join(root, file) for root, _, files in os.walk(TEST_DIR) for file in files if file.lower().endswith(('.jpg', '.jpeg', '.png'))]\n",
        "\n",
        "# Function to extract HOG features\n",
        "def extract_hog_features(image):\n",
        "    gray = cv2.cvtColor(image, cv2.COLOR_BGR2GRAY)\n",
        "    features, _ = ski.feature.hog(gray, pixels_per_cell=(16, 16), cells_per_block=(2, 2),\n",
        "                                  orientations=9, block_norm='L2-Hys', visualize=True)\n",
        "    return features\n",
        "\n",
        "# Prepare dataset\n",
        "data, labels = [], []\n",
        "for img_path in train_images:\n",
        "    image = cv2.imread(img_path)\n",
        "    if image is not None:\n",
        "        image = cv2.resize(image, (64, 64))\n",
        "        features = extract_hog_features(image)\n",
        "        data.append(features)\n",
        "        labels.append(0 if \"cat\" in os.path.basename(img_path) else 1)  # Corrected label assignment\n",
        "\n",
        "# Convert to NumPy arrays\n",
        "data = np.array(data)\n",
        "labels = np.array(labels)\n",
        "\n",
        "# Verify class distribution\n",
        "unique, counts = np.unique(labels, return_counts=True)\n",
        "print(f\"Class Distribution after feature extraction: {dict(zip(unique, counts))}\")  # Should show {0: X, 1: X}\n",
        "\n",
        "# Split dataset\n",
        "from sklearn.model_selection import train_test_split\n",
        "X_train, X_test, y_train, y_test = train_test_split(data, labels, test_size=0.2, random_state=42)\n",
        "\n",
        "# Train SVM model\n",
        "svm_model = LinearSVC(dual=False, max_iter=5000)\n",
        "svm_model.fit(X_train, y_train)\n",
        "\n",
        "# Predict on test set\n",
        "y_pred = svm_model.predict(X_test)\n",
        "\n",
        "# Evaluate model\n",
        "from sklearn.metrics import accuracy_score\n",
        "accuracy = accuracy_score(y_test, y_pred)\n",
        "print(f\"SVM Model Accuracy: {accuracy:.4f}\")\n"
      ],
      "metadata": {
        "colab": {
          "base_uri": "https://localhost:8080/"
        },
        "id": "aATnc41aQ0p8",
        "outputId": "a5875fe5-1464-4306-cee4-dec1bd1ba404"
      },
      "execution_count": 2,
      "outputs": [
        {
          "output_type": "stream",
          "name": "stdout",
          "text": [
            "Number of cat images: 2500\n",
            "Number of dog images: 2500\n",
            "Total training images: 5000\n",
            "Class Distribution after feature extraction: {np.int64(0): np.int64(2500), np.int64(1): np.int64(2500)}\n",
            "SVM Model Accuracy: 0.7060\n"
          ]
        }
      ]
    },
    {
      "cell_type": "code",
      "source": [],
      "metadata": {
        "id": "PFX_gkAYVGar"
      },
      "execution_count": null,
      "outputs": []
    }
  ]
}